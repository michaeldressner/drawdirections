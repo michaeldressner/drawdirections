{
 "cells": [
  {
   "cell_type": "code",
   "execution_count": null,
   "metadata": {},
   "outputs": [],
   "source": [
    "import googlemaps as gm_api\n",
    "from datetime import datetime\n",
    "import polyline\n",
    "import gmaps as gmapper\n",
    "import matplotlib.pyplot as plt"
   ]
  },
  {
   "cell_type": "code",
   "execution_count": null,
   "metadata": {},
   "outputs": [],
   "source": [
    "api_key = input('Enter your API Key:')\n",
    "gm = gm_api.Client(api_key)\n",
    "gmapper.configure(api_key = api_key)"
   ]
  },
  {
   "cell_type": "code",
   "execution_count": null,
   "metadata": {},
   "outputs": [],
   "source": [
    "source = input('Enter a source:')\n",
    "destination = input('Enter a destination:')\n",
    "\n",
    "source_geo = gm.geocode(source)\n",
    "source_lat = source_geo[0]['geometry']['location']['lat']\n",
    "source_long = source_geo[0]['geometry']['location']['lng']\n",
    "\n",
    "dest_geo = gm.geocode(destination)\n",
    "dest_lat = dest_geo[0]['geometry']['location']['lat']\n",
    "dest_long = dest_geo[0]['geometry']['location']['lng']\n",
    "\n",
    "fig = gmapper.figure(center = (source_lat, source_long), zoom_level = 10)"
   ]
  },
  {
   "cell_type": "code",
   "execution_count": null,
   "metadata": {},
   "outputs": [],
   "source": [
    "result = gm.directions(source, destination, avoid='tolls')\n",
    "steps = result[0]['legs'][0]['steps']\n",
    "lines = []\n",
    "\n",
    "for step in steps:\n",
    "    poly = step['polyline']['points']\n",
    "    points = polyline.decode(poly)\n",
    "    instruction = step['html_instructions']\n",
    "    lats = [e[0] for e in points]\n",
    "    longs = [e[1] for e in points]\n",
    "    \n",
    "    #plt.plot(longs, lats)\n",
    "    #plt.axis([-77.7, -77, 38.8, 39.5])\n",
    "    for i in range(1, len(points)):\n",
    "        line = gmapper.Line(points[i-1], points[i], stroke_weight = 5.0)\n",
    "        lines.append(line)\n",
    "\n",
    "drawing = gmapper.drawing_layer(features = lines)\n",
    "fig.add_layer(drawing)"
   ]
  },
  {
   "cell_type": "code",
   "execution_count": null,
   "metadata": {},
   "outputs": [],
   "source": [
    "fig"
   ]
  }
 ],
 "metadata": {
  "kernelspec": {
   "display_name": "Python 3",
   "language": "python",
   "name": "python3"
  },
  "language_info": {
   "codemirror_mode": {
    "name": "ipython",
    "version": 3
   },
   "file_extension": ".py",
   "mimetype": "text/x-python",
   "name": "python",
   "nbconvert_exporter": "python",
   "pygments_lexer": "ipython3",
   "version": "3.7.6"
  }
 },
 "nbformat": 4,
 "nbformat_minor": 2
}
